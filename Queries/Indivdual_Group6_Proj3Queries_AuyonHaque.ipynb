{
    "metadata": {
        "kernelspec": {
            "name": "SQL",
            "display_name": "SQL",
            "language": "sql"
        },
        "language_info": {
            "name": "sql",
            "version": ""
        }
    },
    "nbformat_minor": 2,
    "nbformat": 4,
    "cells": [
        {
            "cell_type": "markdown",
            "source": [
                "Auyon Haque Project 3 quries"
            ],
            "metadata": {
                "language": "sql",
                "azdata_cell_guid": "d8876414-c8f4-4bf6-b1c1-df16dfbe4ac3"
            },
            "attachments": {}
        },
        {
            "cell_type": "markdown",
            "source": [
                "Prob: show distinct rooms\n",
                "\n",
                "tables: <span style=\"color: rgb(33, 33, 33); font-family: Menlo, Monaco, &quot;Courier New&quot;, monospace; font-size: 12px; white-space: pre;\">Uploadfile.CurrentSemesterCourseOfferings</span>\n",
                "\n",
                "<span style=\"color: rgb(33, 33, 33); font-family: Menlo, Monaco, &quot;Courier New&quot;, monospace; font-size: 12px; white-space: pre;\">Cols: Location</span>\n",
                "\n",
                "<span style=\"color: rgb(33, 33, 33); font-family: Menlo, Monaco, &quot;Courier New&quot;, monospace; font-size: 12px; white-space: pre;\">Predicates</span>\n",
                "\n",
                "All three conditons are checking if the value is empty"
            ],
            "metadata": {
                "language": "sql",
                "azdata_cell_guid": "a54e03d6-3c69-4447-9379-2fcb8db28041"
            },
            "attachments": {}
        },
        {
            "cell_type": "code",
            "source": [
                "USE QueensClassSchedule;\n",
                "\n",
                "\n",
                "SELECT DISTINCT Location\n",
                "FROM Uploadfile.CurrentSemesterCourseOfferings\n",
                "WHERE Location IS NOT NULL\n",
                "  AND Location <> 'TBA'\n",
                "  AND Location <> '';\n",
                ""
            ],
            "metadata": {
                "azdata_cell_guid": "0654973b-6b0e-47e7-b67e-58ca3a458bcf",
                "language": "sql",
                "tags": []
            },
            "outputs": [
                {
                    "output_type": "display_data",
                    "data": {
                        "text/html": "(318 rows affected)"
                    },
                    "metadata": {}
                },
                {
                    "output_type": "display_data",
                    "data": {
                        "text/html": "Total execution time: 00:00:00.013"
                    },
                    "metadata": {}
                },
                {
                    "output_type": "execute_result",
                    "metadata": {},
                    "execution_count": 10,
                    "data": {
                        "application/vnd.dataresource+json": {
                            "schema": {
                                "fields": [
                                    {
                                        "name": "Location"
                                    }
                                ]
                            },
                            "data": [
                                {
                                    "Location": "KP 181"
                                },
                                {
                                    "Location": "QH 270A"
                                },
                                {
                                    "Location": "SB B241"
                                },
                                {
                                    "Location": "KY 325"
                                },
                                {
                                    "Location": "RA 217"
                                },
                                {
                                    "Location": "QH 315H"
                                },
                                {
                                    "Location": "PH 202"
                                },
                                {
                                    "Location": "KY 429"
                                },
                                {
                                    "Location": "FG 120"
                                },
                                {
                                    "Location": "KY 417"
                                },
                                {
                                    "Location": "SB A103"
                                },
                                {
                                    "Location": "PH 034"
                                },
                                {
                                    "Location": "KY 312"
                                },
                                {
                                    "Location": "KY 220"
                                },
                                {
                                    "Location": "PH 152"
                                },
                                {
                                    "Location": "QH 179"
                                },
                                {
                                    "Location": "MU 310"
                                },
                                {
                                    "Location": "RE 209"
                                },
                                {
                                    "Location": "RZ 220"
                                },
                                {
                                    "Location": "PH 119"
                                },
                                {
                                    "Location": "PH 102"
                                },
                                {
                                    "Location": "PH 032A"
                                },
                                {
                                    "Location": "KY 277"
                                },
                                {
                                    "Location": "RO 230"
                                },
                                {
                                    "Location": "RE 310"
                                },
                                {
                                    "Location": "SB B131"
                                },
                                {
                                    "Location": "PH 015"
                                },
                                {
                                    "Location": "SB D245"
                                },
                                {
                                    "Location": "QH 330F"
                                },
                                {
                                    "Location": "KG 102"
                                },
                                {
                                    "Location": "RA 201"
                                },
                                {
                                    "Location": "SB A143"
                                },
                                {
                                    "Location": "KY 431"
                                },
                                {
                                    "Location": "FG 204D"
                                },
                                {
                                    "Location": "PH 155"
                                },
                                {
                                    "Location": "MU 265"
                                },
                                {
                                    "Location": "KP 284"
                                },
                                {
                                    "Location": "KY 418"
                                },
                                {
                                    "Location": "QH 270F"
                                },
                                {
                                    "Location": "PH 031"
                                },
                                {
                                    "Location": "KY 426"
                                },
                                {
                                    "Location": "SB E243"
                                },
                                {
                                    "Location": "KY 315"
                                },
                                {
                                    "Location": "KP 481"
                                },
                                {
                                    "Location": "QH 182"
                                },
                                {
                                    "Location": "KP 333"
                                },
                                {
                                    "Location": "FG 300N"
                                },
                                {
                                    "Location": "KY 317"
                                },
                                {
                                    "Location": "RZ 109"
                                },
                                {
                                    "Location": "PH 001"
                                },
                                {
                                    "Location": "KY 420"
                                },
                                {
                                    "Location": "KY 320"
                                },
                                {
                                    "Location": "QH 120"
                                },
                                {
                                    "Location": "PH 333"
                                },
                                {
                                    "Location": "RE 017"
                                },
                                {
                                    "Location": "RZ 304"
                                },
                                {
                                    "Location": "KY 236"
                                },
                                {
                                    "Location": "CH 208"
                                },
                                {
                                    "Location": "RA 101A"
                                },
                                {
                                    "Location": "KY 270"
                                },
                                {
                                    "Location": "SB C205"
                                },
                                {
                                    "Location": "RA 11"
                                },
                                {
                                    "Location": "QH 335G"
                                },
                                {
                                    "Location": "QH 245G"
                                },
                                {
                                    "Location": "FG 100"
                                },
                                {
                                    "Location": "QH 174"
                                },
                                {
                                    "Location": "KY 246"
                                },
                                {
                                    "Location": "KP 263"
                                },
                                {
                                    "Location": "KY 119A"
                                },
                                {
                                    "Location": "CH 102"
                                },
                                {
                                    "Location": "PH 121"
                                },
                                {
                                    "Location": "PH 117"
                                },
                                {
                                    "Location": "HH 17"
                                },
                                {
                                    "Location": "KY 115"
                                },
                                {
                                    "Location": "RA 211"
                                },
                                {
                                    "Location": "KY 419"
                                },
                                {
                                    "Location": "PH 008"
                                },
                                {
                                    "Location": "KY 423"
                                },
                                {
                                    "Location": "DY G15"
                                },
                                {
                                    "Location": "PH 351"
                                },
                                {
                                    "Location": "MU 273"
                                },
                                {
                                    "Location": "KP 281"
                                },
                                {
                                    "Location": "KY 321"
                                },
                                {
                                    "Location": "SB A101"
                                },
                                {
                                    "Location": "IB 201"
                                },
                                {
                                    "Location": "RE 105"
                                },
                                {
                                    "Location": "PH 206"
                                },
                                {
                                    "Location": "RE 012"
                                },
                                {
                                    "Location": "MU 264"
                                },
                                {
                                    "Location": "PH 004"
                                },
                                {
                                    "Location": "RA 219"
                                },
                                {
                                    "Location": "RE 151"
                                },
                                {
                                    "Location": "QH 350A"
                                },
                                {
                                    "Location": "KG 202"
                                },
                                {
                                    "Location": "SB D335"
                                },
                                {
                                    "Location": "QH 010"
                                },
                                {
                                    "Location": "KY 173"
                                },
                                {
                                    "Location": "QH 335B"
                                },
                                {
                                    "Location": "RA 205"
                                },
                                {
                                    "Location": "DY G14"
                                },
                                {
                                    "Location": "FG 307"
                                },
                                {
                                    "Location": "RO 300I"
                                },
                                {
                                    "Location": "KP 433"
                                },
                                {
                                    "Location": "QH 245B"
                                },
                                {
                                    "Location": "RE 300"
                                },
                                {
                                    "Location": "MU 268"
                                },
                                {
                                    "Location": "KY 119B"
                                },
                                {
                                    "Location": "RO 257"
                                },
                                {
                                    "Location": "FG 203F"
                                },
                                {
                                    "Location": "KY 334"
                                },
                                {
                                    "Location": "RA 214"
                                },
                                {
                                    "Location": "KY 281"
                                },
                                {
                                    "Location": "PH 112"
                                },
                                {
                                    "Location": "RA 209"
                                },
                                {
                                    "Location": "MU 270"
                                },
                                {
                                    "Location": "SB D101"
                                },
                                {
                                    "Location": "KY 412"
                                },
                                {
                                    "Location": "IB 212"
                                },
                                {
                                    "Location": "RZ 174"
                                },
                                {
                                    "Location": "GT 150"
                                },
                                {
                                    "Location": "PH 114"
                                },
                                {
                                    "Location": "RA 108"
                                },
                                {
                                    "Location": "KG 115"
                                },
                                {
                                    "Location": "RE 100"
                                },
                                {
                                    "Location": "KY 258"
                                },
                                {
                                    "Location": "RA 106"
                                },
                                {
                                    "Location": "SB D237"
                                },
                                {
                                    "Location": "MU 226"
                                },
                                {
                                    "Location": "PH 153"
                                },
                                {
                                    "Location": "QH 007"
                                },
                                {
                                    "Location": "PH 208"
                                },
                                {
                                    "Location": "SB D231"
                                },
                                {
                                    "Location": "MU 353"
                                },
                                {
                                    "Location": "SB D133"
                                },
                                {
                                    "Location": "PH 012"
                                },
                                {
                                    "Location": "KP 672"
                                },
                                {
                                    "Location": "KY 148"
                                },
                                {
                                    "Location": "RZ 347"
                                },
                                {
                                    "Location": "SB C203"
                                },
                                {
                                    "Location": "QH 260"
                                },
                                {
                                    "Location": "KG 107"
                                },
                                {
                                    "Location": "KY 065"
                                },
                                {
                                    "Location": "KY 244"
                                },
                                {
                                    "Location": "PH 018"
                                },
                                {
                                    "Location": "RA 202"
                                },
                                {
                                    "Location": "RE 352"
                                },
                                {
                                    "Location": "SB B145"
                                },
                                {
                                    "Location": "MU 206"
                                },
                                {
                                    "Location": "SB A135B"
                                },
                                {
                                    "Location": "GB 200"
                                },
                                {
                                    "Location": "QH 340"
                                },
                                {
                                    "Location": "KP 174"
                                },
                                {
                                    "Location": "SB B233"
                                },
                                {
                                    "Location": "QH 265H"
                                },
                                {
                                    "Location": "PH 156"
                                },
                                {
                                    "Location": "PH 030"
                                },
                                {
                                    "Location": "MU 214"
                                },
                                {
                                    "Location": "QH 345C"
                                },
                                {
                                    "Location": "KY 427"
                                },
                                {
                                    "Location": "CD 134"
                                },
                                {
                                    "Location": "PH 113"
                                },
                                {
                                    "Location": "FG 203B"
                                },
                                {
                                    "Location": "RA 213"
                                },
                                {
                                    "Location": "QH 181"
                                },
                                {
                                    "Location": "FG 210"
                                },
                                {
                                    "Location": "MU 331"
                                },
                                {
                                    "Location": "PH 253"
                                },
                                {
                                    "Location": "SB B231"
                                },
                                {
                                    "Location": "SB B343"
                                },
                                {
                                    "Location": "MU 260"
                                },
                                {
                                    "Location": "DY G05"
                                },
                                {
                                    "Location": "KP 404"
                                },
                                {
                                    "Location": "PH 115"
                                },
                                {
                                    "Location": "SB E231"
                                },
                                {
                                    "Location": "KY 316"
                                },
                                {
                                    "Location": "MU 314"
                                },
                                {
                                    "Location": "KP 403"
                                },
                                {
                                    "Location": "KY 264"
                                },
                                {
                                    "Location": "HH 09"
                                },
                                {
                                    "Location": "KG 204"
                                },
                                {
                                    "Location": "RE 355"
                                },
                                {
                                    "Location": "SB A223"
                                },
                                {
                                    "Location": "KY 283"
                                },
                                {
                                    "Location": "FG 211A"
                                },
                                {
                                    "Location": "SU LL50"
                                },
                                {
                                    "Location": "PH 013"
                                },
                                {
                                    "Location": "PH 130"
                                },
                                {
                                    "Location": "CH 203"
                                },
                                {
                                    "Location": "PH 020"
                                },
                                {
                                    "Location": "PH 211"
                                },
                                {
                                    "Location": "CH 108"
                                },
                                {
                                    "Location": "KY 273"
                                },
                                {
                                    "Location": "PH 104"
                                },
                                {
                                    "Location": "KY 271"
                                },
                                {
                                    "Location": "KY 414"
                                },
                                {
                                    "Location": "SB B137"
                                },
                                {
                                    "Location": "KY 150"
                                },
                                {
                                    "Location": "RA 101B"
                                },
                                {
                                    "Location": "RZ 147"
                                },
                                {
                                    "Location": "MU 302"
                                },
                                {
                                    "Location": "DY G22"
                                },
                                {
                                    "Location": "RO 258"
                                },
                                {
                                    "Location": "PH 110"
                                },
                                {
                                    "Location": "KY 422"
                                },
                                {
                                    "Location": "KP 401"
                                },
                                {
                                    "Location": "QH 265C"
                                },
                                {
                                    "Location": "SB E308"
                                },
                                {
                                    "Location": "SB A337"
                                },
                                {
                                    "Location": "KY 319"
                                },
                                {
                                    "Location": "RA 210"
                                },
                                {
                                    "Location": "KY 170"
                                },
                                {
                                    "Location": "AR TC03"
                                },
                                {
                                    "Location": "RA 112"
                                },
                                {
                                    "Location": "KY 250"
                                },
                                {
                                    "Location": "SB C201"
                                },
                                {
                                    "Location": "KY 059"
                                },
                                {
                                    "Location": "PH 331"
                                },
                                {
                                    "Location": "RE 101"
                                },
                                {
                                    "Location": "MU 351"
                                },
                                {
                                    "Location": "PH 311"
                                },
                                {
                                    "Location": "SB B141"
                                },
                                {
                                    "Location": "SB D135"
                                },
                                {
                                    "Location": "KG 105"
                                },
                                {
                                    "Location": "SB D233"
                                },
                                {
                                    "Location": "KP 107"
                                },
                                {
                                    "Location": "PH 010"
                                },
                                {
                                    "Location": "KP 461"
                                },
                                {
                                    "Location": "KY 425"
                                },
                                {
                                    "Location": "QH 322"
                                },
                                {
                                    "Location": "KY 434"
                                },
                                {
                                    "Location": "SB C207"
                                },
                                {
                                    "Location": "CH 204"
                                },
                                {
                                    "Location": "RE 354"
                                },
                                {
                                    "Location": "QH 245E"
                                },
                                {
                                    "Location": "QH 350F"
                                },
                                {
                                    "Location": "RZ 343"
                                },
                                {
                                    "Location": "RE 301"
                                },
                                {
                                    "Location": "MU 363"
                                },
                                {
                                    "Location": "PH 212"
                                },
                                {
                                    "Location": "KP 304"
                                },
                                {
                                    "Location": "RO 101A"
                                },
                                {
                                    "Location": "RA 208"
                                },
                                {
                                    "Location": "SB B243"
                                },
                                {
                                    "Location": "RE 153"
                                },
                                {
                                    "Location": "QH 300E"
                                },
                                {
                                    "Location": "PH 154"
                                },
                                {
                                    "Location": "KY 323"
                                },
                                {
                                    "Location": "PH 106"
                                },
                                {
                                    "Location": "SB B235"
                                },
                                {
                                    "Location": "PH 245"
                                },
                                {
                                    "Location": "KP 140"
                                },
                                {
                                    "Location": "IB 203"
                                },
                                {
                                    "Location": "IB 213"
                                },
                                {
                                    "Location": "RZ 208"
                                },
                                {
                                    "Location": "PH 302"
                                },
                                {
                                    "Location": "PH 347"
                                },
                                {
                                    "Location": "PH 304"
                                },
                                {
                                    "Location": "PH 204"
                                },
                                {
                                    "Location": "KY 318"
                                },
                                {
                                    "Location": "RO 240"
                                },
                                {
                                    "Location": "RZ 128"
                                },
                                {
                                    "Location": "KY 421"
                                },
                                {
                                    "Location": "QH 250"
                                },
                                {
                                    "Location": "MU 225H"
                                },
                                {
                                    "Location": "RZ 312"
                                },
                                {
                                    "Location": "QH 345H"
                                },
                                {
                                    "Location": "KG 206"
                                },
                                {
                                    "Location": "PH 132"
                                },
                                {
                                    "Location": "SB D341"
                                },
                                {
                                    "Location": "GC 120"
                                },
                                {
                                    "Location": "SB B245"
                                },
                                {
                                    "Location": "SB D243"
                                },
                                {
                                    "Location": "PH 108"
                                },
                                {
                                    "Location": "SB A302"
                                },
                                {
                                    "Location": "RE 302"
                                },
                                {
                                    "Location": "PH 231"
                                },
                                {
                                    "Location": "MU 308"
                                },
                                {
                                    "Location": "KP 483"
                                },
                                {
                                    "Location": "HH 08"
                                },
                                {
                                    "Location": "PH 250B"
                                },
                                {
                                    "Location": "PH 157"
                                },
                                {
                                    "Location": "RE 351"
                                },
                                {
                                    "Location": "RE 156"
                                },
                                {
                                    "Location": "KY 416"
                                },
                                {
                                    "Location": "HH 12"
                                },
                                {
                                    "Location": "SB A135H"
                                },
                                {
                                    "Location": "RO 225"
                                },
                                {
                                    "Location": "RO 256"
                                },
                                {
                                    "Location": "KY 326"
                                },
                                {
                                    "Location": "KY 424"
                                },
                                {
                                    "Location": "FG 211B"
                                },
                                {
                                    "Location": "KY 324"
                                },
                                {
                                    "Location": "KY 313"
                                },
                                {
                                    "Location": "JH 306"
                                },
                                {
                                    "Location": "PH 118"
                                },
                                {
                                    "Location": "PH 116"
                                },
                                {
                                    "Location": "QH 315C"
                                },
                                {
                                    "Location": "MU 263"
                                },
                                {
                                    "Location": "PH 151"
                                },
                                {
                                    "Location": "RA 102"
                                },
                                {
                                    "Location": "KP 463"
                                },
                                {
                                    "Location": "QH 320"
                                },
                                {
                                    "Location": "RE 218B"
                                },
                                {
                                    "Location": "QH 225"
                                },
                                {
                                    "Location": "RA 206"
                                },
                                {
                                    "Location": "KP 708"
                                },
                                {
                                    "Location": "FG 203K"
                                },
                                {
                                    "Location": "PH 016"
                                },
                                {
                                    "Location": "FG 313"
                                },
                                {
                                    "Location": "QH 135"
                                },
                                {
                                    "Location": "SB D235"
                                },
                                {
                                    "Location": "RE 307"
                                },
                                {
                                    "Location": "KY 242"
                                },
                                {
                                    "Location": "QH 350H"
                                },
                                {
                                    "Location": "SB A307"
                                },
                                {
                                    "Location": "SB D139"
                                },
                                {
                                    "Location": "FG 306"
                                },
                                {
                                    "Location": "KY 248"
                                }
                            ]
                        },
                        "text/html": [
                            "<table>",
                            "<tr><th>Location</th></tr>",
                            "<tr><td>KP 181</td></tr>",
                            "<tr><td>QH 270A</td></tr>",
                            "<tr><td>SB B241</td></tr>",
                            "<tr><td>KY 325</td></tr>",
                            "<tr><td>RA 217</td></tr>",
                            "<tr><td>QH 315H</td></tr>",
                            "<tr><td>PH 202</td></tr>",
                            "<tr><td>KY 429</td></tr>",
                            "<tr><td>FG 120</td></tr>",
                            "<tr><td>KY 417</td></tr>",
                            "<tr><td>SB A103</td></tr>",
                            "<tr><td>PH 034</td></tr>",
                            "<tr><td>KY 312</td></tr>",
                            "<tr><td>KY 220</td></tr>",
                            "<tr><td>PH 152</td></tr>",
                            "<tr><td>QH 179</td></tr>",
                            "<tr><td>MU 310</td></tr>",
                            "<tr><td>RE 209</td></tr>",
                            "<tr><td>RZ 220</td></tr>",
                            "<tr><td>PH 119</td></tr>",
                            "<tr><td>PH 102</td></tr>",
                            "<tr><td>PH 032A</td></tr>",
                            "<tr><td>KY 277</td></tr>",
                            "<tr><td>RO 230</td></tr>",
                            "<tr><td>RE 310</td></tr>",
                            "<tr><td>SB B131</td></tr>",
                            "<tr><td>PH 015</td></tr>",
                            "<tr><td>SB D245</td></tr>",
                            "<tr><td>QH 330F</td></tr>",
                            "<tr><td>KG 102</td></tr>",
                            "<tr><td>RA 201</td></tr>",
                            "<tr><td>SB A143</td></tr>",
                            "<tr><td>KY 431</td></tr>",
                            "<tr><td>FG 204D</td></tr>",
                            "<tr><td>PH 155</td></tr>",
                            "<tr><td>MU 265</td></tr>",
                            "<tr><td>KP 284</td></tr>",
                            "<tr><td>KY 418</td></tr>",
                            "<tr><td>QH 270F</td></tr>",
                            "<tr><td>PH 031</td></tr>",
                            "<tr><td>KY 426</td></tr>",
                            "<tr><td>SB E243</td></tr>",
                            "<tr><td>KY 315</td></tr>",
                            "<tr><td>KP 481</td></tr>",
                            "<tr><td>QH 182</td></tr>",
                            "<tr><td>KP 333</td></tr>",
                            "<tr><td>FG 300N</td></tr>",
                            "<tr><td>KY 317</td></tr>",
                            "<tr><td>RZ 109</td></tr>",
                            "<tr><td>PH 001</td></tr>",
                            "<tr><td>KY 420</td></tr>",
                            "<tr><td>KY 320</td></tr>",
                            "<tr><td>QH 120</td></tr>",
                            "<tr><td>PH 333</td></tr>",
                            "<tr><td>RE 017</td></tr>",
                            "<tr><td>RZ 304</td></tr>",
                            "<tr><td>KY 236</td></tr>",
                            "<tr><td>CH 208</td></tr>",
                            "<tr><td>RA 101A</td></tr>",
                            "<tr><td>KY 270</td></tr>",
                            "<tr><td>SB C205</td></tr>",
                            "<tr><td>RA 11</td></tr>",
                            "<tr><td>QH 335G</td></tr>",
                            "<tr><td>QH 245G</td></tr>",
                            "<tr><td>FG 100</td></tr>",
                            "<tr><td>QH 174</td></tr>",
                            "<tr><td>KY 246</td></tr>",
                            "<tr><td>KP 263</td></tr>",
                            "<tr><td>KY 119A</td></tr>",
                            "<tr><td>CH 102</td></tr>",
                            "<tr><td>PH 121</td></tr>",
                            "<tr><td>PH 117</td></tr>",
                            "<tr><td>HH 17</td></tr>",
                            "<tr><td>KY 115</td></tr>",
                            "<tr><td>RA 211</td></tr>",
                            "<tr><td>KY 419</td></tr>",
                            "<tr><td>PH 008</td></tr>",
                            "<tr><td>KY 423</td></tr>",
                            "<tr><td>DY G15</td></tr>",
                            "<tr><td>PH 351</td></tr>",
                            "<tr><td>MU 273</td></tr>",
                            "<tr><td>KP 281</td></tr>",
                            "<tr><td>KY 321</td></tr>",
                            "<tr><td>SB A101</td></tr>",
                            "<tr><td>IB 201</td></tr>",
                            "<tr><td>RE 105</td></tr>",
                            "<tr><td>PH 206</td></tr>",
                            "<tr><td>RE 012</td></tr>",
                            "<tr><td>MU 264</td></tr>",
                            "<tr><td>PH 004</td></tr>",
                            "<tr><td>RA 219</td></tr>",
                            "<tr><td>RE 151</td></tr>",
                            "<tr><td>QH 350A</td></tr>",
                            "<tr><td>KG 202</td></tr>",
                            "<tr><td>SB D335</td></tr>",
                            "<tr><td>QH 010</td></tr>",
                            "<tr><td>KY 173</td></tr>",
                            "<tr><td>QH 335B</td></tr>",
                            "<tr><td>RA 205</td></tr>",
                            "<tr><td>DY G14</td></tr>",
                            "<tr><td>FG 307</td></tr>",
                            "<tr><td>RO 300I</td></tr>",
                            "<tr><td>KP 433</td></tr>",
                            "<tr><td>QH 245B</td></tr>",
                            "<tr><td>RE 300</td></tr>",
                            "<tr><td>MU 268</td></tr>",
                            "<tr><td>KY 119B</td></tr>",
                            "<tr><td>RO 257</td></tr>",
                            "<tr><td>FG 203F</td></tr>",
                            "<tr><td>KY 334</td></tr>",
                            "<tr><td>RA 214</td></tr>",
                            "<tr><td>KY 281</td></tr>",
                            "<tr><td>PH 112</td></tr>",
                            "<tr><td>RA 209</td></tr>",
                            "<tr><td>MU 270</td></tr>",
                            "<tr><td>SB D101</td></tr>",
                            "<tr><td>KY 412</td></tr>",
                            "<tr><td>IB 212</td></tr>",
                            "<tr><td>RZ 174</td></tr>",
                            "<tr><td>GT 150</td></tr>",
                            "<tr><td>PH 114</td></tr>",
                            "<tr><td>RA 108</td></tr>",
                            "<tr><td>KG 115</td></tr>",
                            "<tr><td>RE 100</td></tr>",
                            "<tr><td>KY 258</td></tr>",
                            "<tr><td>RA 106</td></tr>",
                            "<tr><td>SB D237</td></tr>",
                            "<tr><td>MU 226</td></tr>",
                            "<tr><td>PH 153</td></tr>",
                            "<tr><td>QH 007</td></tr>",
                            "<tr><td>PH 208</td></tr>",
                            "<tr><td>SB D231</td></tr>",
                            "<tr><td>MU 353</td></tr>",
                            "<tr><td>SB D133</td></tr>",
                            "<tr><td>PH 012</td></tr>",
                            "<tr><td>KP 672</td></tr>",
                            "<tr><td>KY 148</td></tr>",
                            "<tr><td>RZ 347</td></tr>",
                            "<tr><td>SB C203</td></tr>",
                            "<tr><td>QH 260</td></tr>",
                            "<tr><td>KG 107</td></tr>",
                            "<tr><td>KY 065</td></tr>",
                            "<tr><td>KY 244</td></tr>",
                            "<tr><td>PH 018</td></tr>",
                            "<tr><td>RA 202</td></tr>",
                            "<tr><td>RE 352</td></tr>",
                            "<tr><td>SB B145</td></tr>",
                            "<tr><td>MU 206</td></tr>",
                            "<tr><td>SB A135B</td></tr>",
                            "<tr><td>GB 200</td></tr>",
                            "<tr><td>QH 340</td></tr>",
                            "<tr><td>KP 174</td></tr>",
                            "<tr><td>SB B233</td></tr>",
                            "<tr><td>QH 265H</td></tr>",
                            "<tr><td>PH 156</td></tr>",
                            "<tr><td>PH 030</td></tr>",
                            "<tr><td>MU 214</td></tr>",
                            "<tr><td>QH 345C</td></tr>",
                            "<tr><td>KY 427</td></tr>",
                            "<tr><td>CD 134</td></tr>",
                            "<tr><td>PH 113</td></tr>",
                            "<tr><td>FG 203B</td></tr>",
                            "<tr><td>RA 213</td></tr>",
                            "<tr><td>QH 181</td></tr>",
                            "<tr><td>FG 210</td></tr>",
                            "<tr><td>MU 331</td></tr>",
                            "<tr><td>PH 253</td></tr>",
                            "<tr><td>SB B231</td></tr>",
                            "<tr><td>SB B343</td></tr>",
                            "<tr><td>MU 260</td></tr>",
                            "<tr><td>DY G05</td></tr>",
                            "<tr><td>KP 404</td></tr>",
                            "<tr><td>PH 115</td></tr>",
                            "<tr><td>SB E231</td></tr>",
                            "<tr><td>KY 316</td></tr>",
                            "<tr><td>MU 314</td></tr>",
                            "<tr><td>KP 403</td></tr>",
                            "<tr><td>KY 264</td></tr>",
                            "<tr><td>HH 09</td></tr>",
                            "<tr><td>KG 204</td></tr>",
                            "<tr><td>RE 355</td></tr>",
                            "<tr><td>SB A223</td></tr>",
                            "<tr><td>KY 283</td></tr>",
                            "<tr><td>FG 211A</td></tr>",
                            "<tr><td>SU LL50</td></tr>",
                            "<tr><td>PH 013</td></tr>",
                            "<tr><td>PH 130</td></tr>",
                            "<tr><td>CH 203</td></tr>",
                            "<tr><td>PH 020</td></tr>",
                            "<tr><td>PH 211</td></tr>",
                            "<tr><td>CH 108</td></tr>",
                            "<tr><td>KY 273</td></tr>",
                            "<tr><td>PH 104</td></tr>",
                            "<tr><td>KY 271</td></tr>",
                            "<tr><td>KY 414</td></tr>",
                            "<tr><td>SB B137</td></tr>",
                            "<tr><td>KY 150</td></tr>",
                            "<tr><td>RA 101B</td></tr>",
                            "<tr><td>RZ 147</td></tr>",
                            "<tr><td>MU 302</td></tr>",
                            "<tr><td>DY G22</td></tr>",
                            "<tr><td>RO 258</td></tr>",
                            "<tr><td>PH 110</td></tr>",
                            "<tr><td>KY 422</td></tr>",
                            "<tr><td>KP 401</td></tr>",
                            "<tr><td>QH 265C</td></tr>",
                            "<tr><td>SB E308</td></tr>",
                            "<tr><td>SB A337</td></tr>",
                            "<tr><td>KY 319</td></tr>",
                            "<tr><td>RA 210</td></tr>",
                            "<tr><td>KY 170</td></tr>",
                            "<tr><td>AR TC03</td></tr>",
                            "<tr><td>RA 112</td></tr>",
                            "<tr><td>KY 250</td></tr>",
                            "<tr><td>SB C201</td></tr>",
                            "<tr><td>KY 059</td></tr>",
                            "<tr><td>PH 331</td></tr>",
                            "<tr><td>RE 101</td></tr>",
                            "<tr><td>MU 351</td></tr>",
                            "<tr><td>PH 311</td></tr>",
                            "<tr><td>SB B141</td></tr>",
                            "<tr><td>SB D135</td></tr>",
                            "<tr><td>KG 105</td></tr>",
                            "<tr><td>SB D233</td></tr>",
                            "<tr><td>KP 107</td></tr>",
                            "<tr><td>PH 010</td></tr>",
                            "<tr><td>KP 461</td></tr>",
                            "<tr><td>KY 425</td></tr>",
                            "<tr><td>QH 322</td></tr>",
                            "<tr><td>KY 434</td></tr>",
                            "<tr><td>SB C207</td></tr>",
                            "<tr><td>CH 204</td></tr>",
                            "<tr><td>RE 354</td></tr>",
                            "<tr><td>QH 245E</td></tr>",
                            "<tr><td>QH 350F</td></tr>",
                            "<tr><td>RZ 343</td></tr>",
                            "<tr><td>RE 301</td></tr>",
                            "<tr><td>MU 363</td></tr>",
                            "<tr><td>PH 212</td></tr>",
                            "<tr><td>KP 304</td></tr>",
                            "<tr><td>RO 101A</td></tr>",
                            "<tr><td>RA 208</td></tr>",
                            "<tr><td>SB B243</td></tr>",
                            "<tr><td>RE 153</td></tr>",
                            "<tr><td>QH 300E</td></tr>",
                            "<tr><td>PH 154</td></tr>",
                            "<tr><td>KY 323</td></tr>",
                            "<tr><td>PH 106</td></tr>",
                            "<tr><td>SB B235</td></tr>",
                            "<tr><td>PH 245</td></tr>",
                            "<tr><td>KP 140</td></tr>",
                            "<tr><td>IB 203</td></tr>",
                            "<tr><td>IB 213</td></tr>",
                            "<tr><td>RZ 208</td></tr>",
                            "<tr><td>PH 302</td></tr>",
                            "<tr><td>PH 347</td></tr>",
                            "<tr><td>PH 304</td></tr>",
                            "<tr><td>PH 204</td></tr>",
                            "<tr><td>KY 318</td></tr>",
                            "<tr><td>RO 240</td></tr>",
                            "<tr><td>RZ 128</td></tr>",
                            "<tr><td>KY 421</td></tr>",
                            "<tr><td>QH 250</td></tr>",
                            "<tr><td>MU 225H</td></tr>",
                            "<tr><td>RZ 312</td></tr>",
                            "<tr><td>QH 345H</td></tr>",
                            "<tr><td>KG 206</td></tr>",
                            "<tr><td>PH 132</td></tr>",
                            "<tr><td>SB D341</td></tr>",
                            "<tr><td>GC 120</td></tr>",
                            "<tr><td>SB B245</td></tr>",
                            "<tr><td>SB D243</td></tr>",
                            "<tr><td>PH 108</td></tr>",
                            "<tr><td>SB A302</td></tr>",
                            "<tr><td>RE 302</td></tr>",
                            "<tr><td>PH 231</td></tr>",
                            "<tr><td>MU 308</td></tr>",
                            "<tr><td>KP 483</td></tr>",
                            "<tr><td>HH 08</td></tr>",
                            "<tr><td>PH 250B</td></tr>",
                            "<tr><td>PH 157</td></tr>",
                            "<tr><td>RE 351</td></tr>",
                            "<tr><td>RE 156</td></tr>",
                            "<tr><td>KY 416</td></tr>",
                            "<tr><td>HH 12</td></tr>",
                            "<tr><td>SB A135H</td></tr>",
                            "<tr><td>RO 225</td></tr>",
                            "<tr><td>RO 256</td></tr>",
                            "<tr><td>KY 326</td></tr>",
                            "<tr><td>KY 424</td></tr>",
                            "<tr><td>FG 211B</td></tr>",
                            "<tr><td>KY 324</td></tr>",
                            "<tr><td>KY 313</td></tr>",
                            "<tr><td>JH 306</td></tr>",
                            "<tr><td>PH 118</td></tr>",
                            "<tr><td>PH 116</td></tr>",
                            "<tr><td>QH 315C</td></tr>",
                            "<tr><td>MU 263</td></tr>",
                            "<tr><td>PH 151</td></tr>",
                            "<tr><td>RA 102</td></tr>",
                            "<tr><td>KP 463</td></tr>",
                            "<tr><td>QH 320</td></tr>",
                            "<tr><td>RE 218B</td></tr>",
                            "<tr><td>QH 225</td></tr>",
                            "<tr><td>RA 206</td></tr>",
                            "<tr><td>KP 708</td></tr>",
                            "<tr><td>FG 203K</td></tr>",
                            "<tr><td>PH 016</td></tr>",
                            "<tr><td>FG 313</td></tr>",
                            "<tr><td>QH 135</td></tr>",
                            "<tr><td>SB D235</td></tr>",
                            "<tr><td>RE 307</td></tr>",
                            "<tr><td>KY 242</td></tr>",
                            "<tr><td>QH 350H</td></tr>",
                            "<tr><td>SB A307</td></tr>",
                            "<tr><td>SB D139</td></tr>",
                            "<tr><td>FG 306</td></tr>",
                            "<tr><td>KY 248</td></tr>",
                            "</table>"
                        ]
                    }
                }
            ],
            "execution_count": 10
        },
        {
            "cell_type": "markdown",
            "source": [
                "Prob: show rooms where location starts with a letter and end with a letter \n",
                "\n",
                "tables: <span style=\"color: rgb(33, 33, 33); font-family: Menlo, Monaco, &quot;Courier New&quot;, monospace; font-size: 12px; white-space: pre;\">Uploadfile.CurrentSemesterCourseOfferings</span>\n",
                "\n",
                "<span style=\"color: rgb(33, 33, 33); font-family: Menlo, Monaco, &quot;Courier New&quot;, monospace; font-size: 12px; white-space: pre;\">Cols: Location</span>\n",
                "\n",
                "<span style=\"color: rgb(33, 33, 33); font-family: Menlo, Monaco, &quot;Courier New&quot;, monospace; font-size: 12px; white-space: pre;\">Predicates</span>\n",
                "\n",
                "<span style=\"color: #0000ff;\">LIKE</span> <span style=\"color: #a31515;\">'[A-Z]%[A-Z]' </span> Predicates filters rows to show locations to show it start with a uppercase and end with a uppercase\n",
                "\n",
                "rest are checking to make sure its not emptu"
            ],
            "metadata": {
                "language": "sql",
                "azdata_cell_guid": "d6750900-8335-4ea5-b6aa-7084f291dc71"
            },
            "attachments": {}
        },
        {
            "cell_type": "code",
            "source": [
                "USE QueensClassSchedule;\n",
                "\n",
                "SELECT DISTINCT Location\n",
                "FROM Uploadfile.CurrentSemesterCourseOfferings\n",
                "WHERE Location LIKE '[A-Z]%[A-Z]'\n",
                "  AND Location IS NOT NULL\n",
                "  AND Location <> 'TBA'\n",
                "  AND Location <> '';"
            ],
            "metadata": {
                "language": "sql",
                "azdata_cell_guid": "398750cf-64c5-4197-a4ae-d44eaabda067"
            },
            "outputs": [
                {
                    "output_type": "display_data",
                    "data": {
                        "text/html": "(37 rows affected)"
                    },
                    "metadata": {}
                },
                {
                    "output_type": "display_data",
                    "data": {
                        "text/html": "Total execution time: 00:00:00.031"
                    },
                    "metadata": {}
                },
                {
                    "output_type": "execute_result",
                    "metadata": {},
                    "execution_count": 11,
                    "data": {
                        "application/vnd.dataresource+json": {
                            "schema": {
                                "fields": [
                                    {
                                        "name": "Location"
                                    }
                                ]
                            },
                            "data": [
                                {
                                    "Location": "FG 203B"
                                },
                                {
                                    "Location": "FG 203F"
                                },
                                {
                                    "Location": "FG 203K"
                                },
                                {
                                    "Location": "FG 204D"
                                },
                                {
                                    "Location": "FG 211A"
                                },
                                {
                                    "Location": "FG 211B"
                                },
                                {
                                    "Location": "FG 300N"
                                },
                                {
                                    "Location": "KY 119A"
                                },
                                {
                                    "Location": "KY 119B"
                                },
                                {
                                    "Location": "MU 225H"
                                },
                                {
                                    "Location": "PH 032A"
                                },
                                {
                                    "Location": "PH 250B"
                                },
                                {
                                    "Location": "QH 245B"
                                },
                                {
                                    "Location": "QH 245E"
                                },
                                {
                                    "Location": "QH 245G"
                                },
                                {
                                    "Location": "QH 265C"
                                },
                                {
                                    "Location": "QH 265H"
                                },
                                {
                                    "Location": "QH 270A"
                                },
                                {
                                    "Location": "QH 270F"
                                },
                                {
                                    "Location": "QH 300E"
                                },
                                {
                                    "Location": "QH 315C"
                                },
                                {
                                    "Location": "QH 315H"
                                },
                                {
                                    "Location": "QH 330F"
                                },
                                {
                                    "Location": "QH 335B"
                                },
                                {
                                    "Location": "QH 335G"
                                },
                                {
                                    "Location": "QH 345C"
                                },
                                {
                                    "Location": "QH 345H"
                                },
                                {
                                    "Location": "QH 350A"
                                },
                                {
                                    "Location": "QH 350F"
                                },
                                {
                                    "Location": "QH 350H"
                                },
                                {
                                    "Location": "RA 101A"
                                },
                                {
                                    "Location": "RA 101B"
                                },
                                {
                                    "Location": "RE 218B"
                                },
                                {
                                    "Location": "RO 101A"
                                },
                                {
                                    "Location": "RO 300I"
                                },
                                {
                                    "Location": "SB A135B"
                                },
                                {
                                    "Location": "SB A135H"
                                }
                            ]
                        },
                        "text/html": [
                            "<table>",
                            "<tr><th>Location</th></tr>",
                            "<tr><td>FG 203B</td></tr>",
                            "<tr><td>FG 203F</td></tr>",
                            "<tr><td>FG 203K</td></tr>",
                            "<tr><td>FG 204D</td></tr>",
                            "<tr><td>FG 211A</td></tr>",
                            "<tr><td>FG 211B</td></tr>",
                            "<tr><td>FG 300N</td></tr>",
                            "<tr><td>KY 119A</td></tr>",
                            "<tr><td>KY 119B</td></tr>",
                            "<tr><td>MU 225H</td></tr>",
                            "<tr><td>PH 032A</td></tr>",
                            "<tr><td>PH 250B</td></tr>",
                            "<tr><td>QH 245B</td></tr>",
                            "<tr><td>QH 245E</td></tr>",
                            "<tr><td>QH 245G</td></tr>",
                            "<tr><td>QH 265C</td></tr>",
                            "<tr><td>QH 265H</td></tr>",
                            "<tr><td>QH 270A</td></tr>",
                            "<tr><td>QH 270F</td></tr>",
                            "<tr><td>QH 300E</td></tr>",
                            "<tr><td>QH 315C</td></tr>",
                            "<tr><td>QH 315H</td></tr>",
                            "<tr><td>QH 330F</td></tr>",
                            "<tr><td>QH 335B</td></tr>",
                            "<tr><td>QH 335G</td></tr>",
                            "<tr><td>QH 345C</td></tr>",
                            "<tr><td>QH 345H</td></tr>",
                            "<tr><td>QH 350A</td></tr>",
                            "<tr><td>QH 350F</td></tr>",
                            "<tr><td>QH 350H</td></tr>",
                            "<tr><td>RA 101A</td></tr>",
                            "<tr><td>RA 101B</td></tr>",
                            "<tr><td>RE 218B</td></tr>",
                            "<tr><td>RO 101A</td></tr>",
                            "<tr><td>RO 300I</td></tr>",
                            "<tr><td>SB A135B</td></tr>",
                            "<tr><td>SB A135H</td></tr>",
                            "</table>"
                        ]
                    }
                }
            ],
            "execution_count": 11
        }
    ]
}