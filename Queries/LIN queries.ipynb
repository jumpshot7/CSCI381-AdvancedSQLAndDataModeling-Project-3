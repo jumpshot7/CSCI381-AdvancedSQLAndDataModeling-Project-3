{
    "metadata": {
        "kernelspec": {
            "name": "SQL",
            "display_name": "SQL",
            "language": "sql"
        },
        "language_info": {
            "name": "sql",
            "version": ""
        }
    },
    "nbformat_minor": 2,
    "nbformat": 4,
    "cells": [
        {
            "cell_type": "code",
            "source": [
                "--How many unique majors are in the Course table?\r\n",
                "\r\n",
                "SELECT COUNT(DISTINCT LEFT(CourseName, CHARINDEX(' ', CourseName) - 1)) AS NumberOfMajors\r\n",
                "FROM [QueensClassSchedule].[Course].[Course]\r\n",
                "WHERE CourseName LIKE '% %';  -- Ensure we are looking at course names with a space (i.e., with a prefix)"
            ],
            "metadata": {
                "azdata_cell_guid": "4e7e424b-247a-42eb-8de3-fea7795964f2",
                "language": "sql"
            },
            "outputs": [],
            "execution_count": null
        },
        {
            "cell_type": "code",
            "source": [
                "-- How many 3- level computer science class thats open to student?\r\n",
                "\r\n",
                "SELECT [CourseKey],\r\n",
                "       [CourseName],\r\n",
                "       [CourseDescription],\r\n",
                "       [UserAuthorizationKey],\r\n",
                "       [DateAdded],\r\n",
                "       [DateOfLastUpdate]\r\n",
                "FROM [QueensClassSchedule].[Course].[Course]\r\n",
                "WHERE [CourseName] LIKE 'CSCI 3%'\r\n",
                "ORDER BY [CourseName];"
            ],
            "metadata": {
                "azdata_cell_guid": "07b5bcc8-6197-479d-b7b7-599772ab269c",
                "language": "sql"
            },
            "outputs": [],
            "execution_count": null
        }
    ]
}