{
    "metadata": {
        "kernelspec": {
            "name": "SQL",
            "display_name": "SQL",
            "language": "sql"
        },
        "language_info": {
            "name": "sql",
            "version": ""
        }
    },
    "nbformat_minor": 2,
    "nbformat": 4,
    "cells": [
        {
            "cell_type": "code",
            "source": [
                "--Find the classes with low enrollment and the enrollment threshold can be adjusted to what you consider low\r\n",
                "USE [QueensClassSchedule]\r\n",
                "\r\n",
                "SELECT CourseName,\r\n",
                "       InstructorFullName AS [Instructor Name],\r\n",
                "       NumberEnrolled AS [Enrollment Number],\r\n",
                "       Limit AS [Enrollment Limit]\r\n",
                "FROM Course.[Class]\r\n",
                "--the threshold can be adjusted as needed\r\n",
                "WHERE NumberEnrolled < 10  \r\n",
                "ORDER BY NumberEnrolled ASC;\r\n",
                ""
            ],
            "metadata": {
                "azdata_cell_guid": "24940332-9cfc-4a73-8697-04899e28e8c2",
                "language": "sql",
                "tags": []
            },
            "outputs": [
                {
                    "output_type": "display_data",
                    "data": {
                        "text/html": "(0 rows affected)"
                    },
                    "metadata": {}
                },
                {
                    "output_type": "display_data",
                    "data": {
                        "text/html": "Total execution time: 00:00:00.003"
                    },
                    "metadata": {}
                },
                {
                    "output_type": "execute_result",
                    "metadata": {},
                    "execution_count": 33,
                    "data": {
                        "application/vnd.dataresource+json": {
                            "schema": {
                                "fields": [
                                    {
                                        "name": "CourseName"
                                    },
                                    {
                                        "name": "Instructor Name"
                                    },
                                    {
                                        "name": "Enrollment Number"
                                    },
                                    {
                                        "name": "Enrollment Limit"
                                    }
                                ]
                            },
                            "data": []
                        },
                        "text/html": [
                            "<table>",
                            "<tr><th>CourseName</th><th>Instructor Name</th><th>Enrollment Number</th><th>Enrollment Limit</th></tr>",
                            "</table>"
                        ]
                    }
                }
            ],
            "execution_count": 33
        },
        {
            "cell_type": "code",
            "source": [
                "--Find the classes where the building location is Powdermaker Building\r\n",
                "USE [QueensClassSchedule]\r\n",
                "\r\n",
                "SELECT \r\n",
                "    c.CourseName,\r\n",
                "    c.InstructorFullName AS [Instructor Name]\r\n",
                "FROM \r\n",
                "    Course.[Class] c\r\n",
                "JOIN \r\n",
                "    Course.[Location] l ON c.LocationID = l.LocationID\r\n",
                "WHERE \r\n",
                "    l.BuildingLocation = 'Powdermaker Building'\r\n",
                "ORDER BY \r\n",
                "    c.CourseName;\r\n",
                ""
            ],
            "metadata": {
                "azdata_cell_guid": "7b0de04b-ab01-4428-9bc1-99036eb55a82",
                "language": "sql"
            },
            "outputs": [
                {
                    "output_type": "error",
                    "evalue": "Msg 208, Level 16, State 1, Line 3\r\nInvalid object name 'Course.Location'.",
                    "ename": "",
                    "traceback": []
                },
                {
                    "output_type": "display_data",
                    "data": {
                        "text/html": "Total execution time: 00:00:00.001"
                    },
                    "metadata": {}
                }
            ],
            "execution_count": 35
        },
        {
            "cell_type": "code",
            "source": [
                "USE [QueensClassSchedule]\r\n",
                "GO\r\n",
                "SELECT TABLE_SCHEMA, TABLE_NAME \r\n",
                "FROM INFORMATION_SCHEMA.TABLES \r\n",
                "WHERE TABLE_TYPE = 'BASE TABLE';\r\n",
                ""
            ],
            "metadata": {
                "azdata_cell_guid": "f8ce2590-f384-4e74-b60a-c8c19fbeb765",
                "language": "sql"
            },
            "outputs": [
                {
                    "output_type": "display_data",
                    "data": {
                        "text/html": "Commands completed successfully."
                    },
                    "metadata": {}
                },
                {
                    "output_type": "display_data",
                    "data": {
                        "text/html": "(11 rows affected)"
                    },
                    "metadata": {}
                },
                {
                    "output_type": "display_data",
                    "data": {
                        "text/html": "Total execution time: 00:00:00.013"
                    },
                    "metadata": {}
                },
                {
                    "output_type": "execute_result",
                    "metadata": {},
                    "execution_count": 13,
                    "data": {
                        "application/vnd.dataresource+json": {
                            "schema": {
                                "fields": [
                                    {
                                        "name": "TABLE_SCHEMA"
                                    },
                                    {
                                        "name": "TABLE_NAME"
                                    }
                                ]
                            },
                            "data": [
                                {
                                    "TABLE_SCHEMA": "Location",
                                    "TABLE_NAME": "BuildingLocation"
                                },
                                {
                                    "TABLE_SCHEMA": "Department",
                                    "TABLE_NAME": "Department"
                                },
                                {
                                    "TABLE_SCHEMA": "Course",
                                    "TABLE_NAME": "Course"
                                },
                                {
                                    "TABLE_SCHEMA": "Department",
                                    "TABLE_NAME": "Instructor"
                                },
                                {
                                    "TABLE_SCHEMA": "Course",
                                    "TABLE_NAME": "Class"
                                },
                                {
                                    "TABLE_SCHEMA": "Uploadfile",
                                    "TABLE_NAME": "CurrentSemesterCourseOfferings"
                                },
                                {
                                    "TABLE_SCHEMA": "Process",
                                    "TABLE_NAME": "WorkflowSteps"
                                },
                                {
                                    "TABLE_SCHEMA": "dbo",
                                    "TABLE_NAME": "sysdiagrams"
                                },
                                {
                                    "TABLE_SCHEMA": "DbSecurity",
                                    "TABLE_NAME": "UserAuthorization"
                                },
                                {
                                    "TABLE_SCHEMA": "Course",
                                    "TABLE_NAME": "ModeOfInstruction"
                                },
                                {
                                    "TABLE_SCHEMA": "Location",
                                    "TABLE_NAME": "RoomLocation"
                                }
                            ]
                        },
                        "text/html": [
                            "<table>",
                            "<tr><th>TABLE_SCHEMA</th><th>TABLE_NAME</th></tr>",
                            "<tr><td>Location</td><td>BuildingLocation</td></tr>",
                            "<tr><td>Department</td><td>Department</td></tr>",
                            "<tr><td>Course</td><td>Course</td></tr>",
                            "<tr><td>Department</td><td>Instructor</td></tr>",
                            "<tr><td>Course</td><td>Class</td></tr>",
                            "<tr><td>Uploadfile</td><td>CurrentSemesterCourseOfferings</td></tr>",
                            "<tr><td>Process</td><td>WorkflowSteps</td></tr>",
                            "<tr><td>dbo</td><td>sysdiagrams</td></tr>",
                            "<tr><td>DbSecurity</td><td>UserAuthorization</td></tr>",
                            "<tr><td>Course</td><td>ModeOfInstruction</td></tr>",
                            "<tr><td>Location</td><td>RoomLocation</td></tr>",
                            "</table>"
                        ]
                    }
                }
            ],
            "execution_count": 13
        }
    ]
}