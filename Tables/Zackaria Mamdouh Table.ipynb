{
    "metadata": {
        "kernelspec": {
            "name": "SQL",
            "display_name": "SQL",
            "language": "sql"
        },
        "language_info": {
            "name": "sql",
            "version": ""
        }
    },
    "nbformat_minor": 2,
    "nbformat": 4,
    "cells": [
        {
            "cell_type": "code",
            "source": [
                "-- =============================================\r\n",
                "-- Author:        Zackaria Mamdouh\r\n",
                "-- Create date:   5/13/2024\r\n",
                "-- Description:   Creating all schemas and UDT for the project\r\n",
                "-- =============================================\r\n",
                "\r\n",
                "USE QueensClassSchedule;\r\n",
                "GO\r\n",
                "\r\n",
                "-- Create the Udt schema\r\n",
                "CREATE SCHEMA Udt;\r\n",
                "GO\r\n",
                "\r\n",
                "-- Create the Process schema\r\n",
                "CREATE SCHEMA Process;\r\n",
                "GO\r\n",
                "\r\n",
                "-- Create the DbSecurity schema\r\n",
                "CREATE SCHEMA DbSecurity;\r\n",
                "GO\r\n",
                "\r\n",
                "-- Create the Course Schema\r\n",
                "CREATE SCHEMA Course;\r\n",
                "GO\r\n",
                "\r\n",
                "-- Create the Project3 schema\r\n",
                "CREATE SCHEMA Project3;\r\n",
                "GO\r\n",
                "\r\n",
                "-- Create the Location schema\r\n",
                "CREATE SCHEMA Location;\r\n",
                "GO\r\n",
                "\r\n",
                "-- Create the Department schema\r\n",
                "CREATE SCHEMA Department;\r\n",
                "GO\r\n",
                "\r\n",
                "\r\n",
                "-- Create the UDTs\r\n",
                "CREATE TYPE [Udt].[SurrogateKeyInt] FROM INT NOT NULL;\r\n",
                "CREATE TYPE [Udt].[DateAdded] FROM DATETIME2 NOT NULL;\r\n",
                "CREATE TYPE [Udt].[ClassTime] FROM NCHAR(5) NOT NULL;\r\n",
                "CREATE TYPE [Udt].[IndividualProject] FROM NVARCHAR(60) NOT NULL;\r\n",
                "CREATE TYPE [Udt].[LastName] FROM NVARCHAR(35) NOT NULL;\r\n",
                "CREATE TYPE [Udt].[FirstName] FROM NVARCHAR(20) NOT NULL;\r\n",
                "CREATE TYPE [Udt].[GroupName] FROM NVARCHAR(20) NOT NULL;\r\n",
                "CREATE TYPE [Udt].[Description] FROM NVARCHAR(100) NOT NULL;\r\n",
                "CREATE TYPE [Udt].[Count] FROM INT NULL;\r\n",
                "CREATE TYPE [Udt].[DateOf] FROM DATETIME2 NOT NULL;\r\n",
                "CREATE TYPE [Udt].[Name] FROM NVARCHAR(35) NOT NULL;\r\n",
                "CREATE TYPE [Udt].[ModeOfInstruction] FROM NVARCHAR(50) NOT NULL;\r\n",
                "CREATE TYPE [Udt].[RoomLocation] FROM NVARCHAR(50) NOT NULL;\r\n",
                "CREATE TYPE [Udt].[BuildingLocation] FROM NVARCHAR(50) NOT NULL;\r\n",
                "CREATE TYPE [Udt].[DepartmentName] FROM NVARCHAR(50) NOT NULL;\r\n",
                "CREATE TYPE [Udt].[CourseName] FROM NVARCHAR(50) NOT NULL;\r\n",
                "CREATE TYPE [Udt].[CourseDesc] FROM NVARCHAR(50) NOT NULL;\r\n",
                "CREATE TYPE [Udt].[Section] FROM NVARCHAR(50) NOT NULL;\r\n",
                "CREATE TYPE [Udt].[CourseCode] FROM NVARCHAR(50) NOT NULL;\r\n",
                "CREATE TYPE [Udt].[DayOfWeek] FROM NVARCHAR(50) NOT NULL;\r\n",
                "CREATE TYPE [Udt].[IntValue] FROM NVARCHAR(50) NOT NULL;\r\n",
                "GO\r\n",
                ""
            ],
            "metadata": {
                "azdata_cell_guid": "e1164d0a-5258-41dd-bf70-28abda9de178",
                "language": "sql",
                "tags": []
            },
            "outputs": [],
            "execution_count": null
        },
        {
            "cell_type": "code",
            "source": [
                "-- =============================================\r\n",
                "-- Author:        Zackaria Mamdouh\r\n",
                "-- Create date:   5/13/2024\r\n",
                "-- Description:   Creating the WorkflowSteps table\r\n",
                "-- =============================================\r\n",
                "\r\n",
                "USE QueensClassSchedule\r\n",
                "\r\n",
                "CREATE TABLE [Process].[WorkflowSteps]\r\n",
                "(\r\n",
                "    [WorkFlowStepKey] [Udt].[SurrogateKeyInt] IDENTITY(1,1) PRIMARY KEY NOT NULL,\r\n",
                "    [WorkFlowStepDescription] [Udt].[Description] NOT NULL,\r\n",
                "    [WorkFlowStepTableRowCount] [Udt].[Count] NULL,\r\n",
                "    [StartingDateTime] [Udt].[DateOf] NULL,\r\n",
                "    [EndingDateTime] [Udt].[DateOf] NULL,\r\n",
                "    [ClassTime] [Udt].[ClassTime] NULL,\r\n",
                "    [UserAuthorizationKey] [Udt].[SurrogateKeyInt] NOT NULL\r\n",
                ");"
            ],
            "metadata": {
                "azdata_cell_guid": "344644dc-40b2-4390-b32d-febe179058f3",
                "language": "sql",
                "tags": []
            },
            "outputs": [],
            "execution_count": null
        },
        {
            "cell_type": "code",
            "source": [
                "-- =============================================\r\n",
                "-- Author:        Zackaria Mamdouh\r\n",
                "-- Create date:   5/13/2024\r\n",
                "-- Description:   Creating the DbSecurity.UserAuthorization table\r\n",
                "-- =============================================\r\n",
                "USE QueensClassSchedule;\r\n",
                "\r\n",
                "CREATE TABLE [DbSecurity].[UserAuthorization]\r\n",
                "(\r\n",
                "\t[UserAuthorizationKey] [Udt].[SurrogateKeyInt] IDENTITY(1,1) PRIMARY KEY NOT NULL,\r\n",
                "\t[ClassTime] [Udt].[ClassTime] NULL DEFAULT ('9:15'),\r\n",
                "\t[IndividualProject] [Udt].[IndividualProject] NULL DEFAULT('PROJECT 3'),\r\n",
                "\t[GroupMemberLastName] [Udt].[Name] NOT NULL,\r\n",
                "\t[GroupMemberFirstName] [Udt].[Name] NOT NULL,\r\n",
                "\t[GroupName] [Udt].[Name] NOT NULL DEFAULT ('GROUP 6'),\r\n",
                "\t[DateAdded] [Udt].[DateOf] NULL DEFAULT SYSDATETIME()\r\n",
                ")\r\n",
                "\r\n",
                "INSERT INTO [DbSecurity].[UserAuthorization]\r\n",
                "(\r\n",
                "    GroupMemberLastName,\r\n",
                "    GroupMemberFirstName\r\n",
                ")\r\n",
                "VALUES\r\n",
                "('Mamdouh', 'Zackaria'),      --1\r\n",
                "('Haque', 'Auyon'),  --2\r\n",
                "('Paul', 'Prithibi'), --3\r\n",
                "('Zheng', 'Sabrina'),    --4\r\n",
                "('Jiang', 'Shengwei'),  --5\r\n",
                "('Chen', 'Yan '),  --6\r\n",
                "('Amaya', 'Alexa '), --7\r\n",
                "('Lin', 'Hanqi');     --8\r\n",
                "GO"
            ],
            "metadata": {
                "azdata_cell_guid": "8a802888-e6db-465f-a93a-c17189a7d6d9",
                "language": "sql",
                "tags": []
            },
            "outputs": [
                {
                    "output_type": "display_data",
                    "data": {
                        "text/html": "(8 rows affected)"
                    },
                    "metadata": {}
                },
                {
                    "output_type": "display_data",
                    "data": {
                        "text/html": "Total execution time: 00:00:00.021"
                    },
                    "metadata": {}
                }
            ],
            "execution_count": 3
        },
        {
            "cell_type": "code",
            "source": [
                "-- =============================================\r\n",
                "-- Author:        Zackaria Mamdouh\r\n",
                "-- Create date:   5/13/2024\r\n",
                "-- Description:   Creating the ModeOfInstruction Table\r\n",
                "-- =============================================\r\n",
                "\r\n",
                "USE QueensClassSchedule;\r\n",
                "GO\r\n",
                "\r\n",
                "CREATE TABLE [Course].[ModeOfInstruction]\r\n",
                "(\r\n",
                "    [ModeOfInstructionKey] [Udt].[SurrogateKeyInt] NOT NULL IDENTITY PRIMARY KEY,\r\n",
                "    [ModeOfInstruction] [Udt].[ModeOfInstruction] NOT NULL,\r\n",
                "    [UserAuthorizationKey] [Udt].[SurrogateKeyInt] NOT NULL,\r\n",
                "    [DateAdded] [Udt].[DateOf] NULL DEFAULT SYSDATETIME(),\r\n",
                "    [DateOfLastUpdate] [Udt].[DateOf] NULL DEFAULT SYSDATETIME()\r\n",
                ");\r\n",
                "GO"
            ],
            "metadata": {
                "azdata_cell_guid": "9624a13d-98bd-4c2d-aec0-9ce8aaf62b1f",
                "language": "sql",
                "tags": []
            },
            "outputs": [],
            "execution_count": null
        },
        {
            "cell_type": "code",
            "source": [
                "-- =============================================\r\n",
                "-- Author:        Zackaria Mamdouh\r\n",
                "-- Create date:   5/13/2024\r\n",
                "-- Description:   Creating the RoomLocation table\r\n",
                "-- =============================================\r\n",
                "\r\n",
                "USE QueensClassSchedule;\r\n",
                "\r\n",
                "\r\n",
                "CREATE TABLE [Location].[RoomLocation]\r\n",
                "( \r\n",
                "\t[RoomLocationKey] [Udt].[SurrogateKeyInt] NOT NULL IDENTITY PRIMARY KEY,\r\n",
                "\t[RoomLocation] [Udt].[RoomLocation] NOT NULL DEFAULT 'AA TBA',\r\n",
                "\t[UserAuthorizationKey] [Udt].[SurrogateKeyInt] NOT NULL,\r\n",
                "\t[DateAdded] [Udt].[DateOf] NULL\r\n",
                "\t\tDEFAULT SYSDATETIME(),\r\n",
                "\t[DateOfLastUpdate] [Udt].[DateOf] NULL\r\n",
                "\t\tDEFAULT SYSDATETIME()\r\n",
                ");"
            ],
            "metadata": {
                "azdata_cell_guid": "269097b3-33b4-44e3-8686-f82615512c1c",
                "language": "sql"
            },
            "outputs": [],
            "execution_count": null
        },
        {
            "cell_type": "code",
            "source": [
                "-- =============================================\r\n",
                "-- Author:        Zackaria Mamdouh\r\n",
                "-- Create date:   5/13/2024\r\n",
                "-- Description:   Creating the BuildingLocation table\r\n",
                "-- =============================================\r\n",
                "USE QueensClassSchedule;\r\n",
                "\r\n",
                "CREATE TABLE [Location].[BuildingLocation](\r\n",
                "\t[BuildingKey] [Udt].[SurrogateKeyInt] NOT NULL IDENTITY PRIMARY KEY,\r\n",
                "\t[BuildingLocation] [Udt].[BuildingLocation] NOT NULL,\r\n",
                "\t[RoomLocationKey] [Udt].[SurrogateKeyInt] NOT NULL,\r\n",
                "\t[RoomLocation] [Udt].[BuildingLocation] NOT NULL,\r\n",
                "\t[UserAuthorizationKey] [Udt].[SurrogateKeyInt] NOT NULL,\r\n",
                "    [DateAdded] [Udt].[DateOf] NULL\r\n",
                "        DEFAULT SYSDATETIME(),\r\n",
                "    [DateOfLastUpdate] [Udt].[DateOf] NULL\r\n",
                "        DEFAULT SYSDATETIME()\r\n",
                ");\r\n",
                ""
            ],
            "metadata": {
                "azdata_cell_guid": "0b189b01-5587-4e31-9881-704e830b3b11",
                "language": "sql",
                "tags": []
            },
            "outputs": [],
            "execution_count": null
        },
        {
            "cell_type": "code",
            "source": [
                "-- =============================================\r\n",
                "-- Author:        Zackaria Mamdouh\r\n",
                "-- Create date:   5/13/2024\r\n",
                "-- Description:   Creating the Department table\r\n",
                "-- =============================================\r\n",
                "\r\n",
                "CREATE TABLE [Department].[Department]\r\n",
                "(\r\n",
                "    [DepartmentKey] [Udt].[SurrogateKeyInt] NOT NULL IDENTITY PRIMARY KEY,\r\n",
                "    [DepartmentName] [Udt].[DepartmentName] NOT NULL,\r\n",
                "    [UserAuthorizationKey] [Udt].[SurrogateKeyInt] NOT NULL,\r\n",
                "    [DateAdded] [Udt].[DateOf] NULL\r\n",
                "        DEFAULT SYSDATETIME(),\r\n",
                "    [DateOfLastUpdate] [Udt].[DateOf] NULL\r\n",
                "        DEFAULT SYSDATETIME()\r\n",
                ");"
            ],
            "metadata": {
                "azdata_cell_guid": "f2a24eb2-b084-4626-8d9f-87424a10d246",
                "language": "sql"
            },
            "outputs": [],
            "execution_count": null
        },
        {
            "cell_type": "code",
            "source": [
                "-- =============================================\r\n",
                "-- Author:        Zackaria Mamdouh\r\n",
                "-- Create date:   5/13/2024\r\n",
                "-- Description:   Creating the Course Table\r\n",
                "-- =============================================\r\n",
                "CREATE TABLE [Course].[Course]\r\n",
                "(\r\n",
                "\t[CourseKey] [Udt].[SurrogateKeyInt] NOT NULL IDENTITY PRIMARY KEY, \r\n",
                "\t[CourseName][udt].[CourseName] NULL,\r\n",
                "\t[CourseDescription] [Udt].[CourseDesc] NULL,\r\n",
                "    [UserAuthorizationKey] [Udt].[SurrogateKeyInt] NOT NULL,\r\n",
                "    [DateAdded] [Udt].[DateOf] NULL\r\n",
                "        DEFAULT SYSDATETIME(),\r\n",
                "    [DateOfLastUpdate] [Udt].[DateOf] NULL\r\n",
                "        DEFAULT SYSDATETIME()\r\n",
                ");"
            ],
            "metadata": {
                "azdata_cell_guid": "348148e5-6b5c-4026-b9ea-bddcaa910a13",
                "language": "sql"
            },
            "outputs": [],
            "execution_count": null
        },
        {
            "cell_type": "code",
            "source": [
                "-- =============================================\r\n",
                "-- Author:        Zackaria Mamdouh\r\n",
                "-- Create date:   5/13/2024\r\n",
                "-- Description:   Creating the Instructor table\r\n",
                "-- =============================================\r\n",
                "CREATE TABLE [Department].[Instructor]\r\n",
                "(\r\n",
                "\t[InstructorKey] [Udt].[SurrogateKeyInt] NOT NULL IDENTITY PRIMARY KEY, \r\n",
                "\t[InstructorFirstName] [Udt].[Name] NULL,\r\n",
                "\t[InstructorLastName] [Udt].[Name] NULL,\r\n",
                "\t[InstructorFullName] [Udt].[Name] NULL,\r\n",
                "\t[DepartmentName] [Udt].[DepartmentName] NULL,\r\n",
                "\t[DepartmentKey] [Udt].[SurrogateKeyInt] NULL,\r\n",
                "\t[UserAuthorizationKey] [Udt].[SurrogateKeyInt] NOT NULL,\r\n",
                "    [DateAdded] [Udt].[DateOf] NULL\r\n",
                "        DEFAULT SYSDATETIME(),\r\n",
                "    [DateOfLastUpdate] [Udt].[DateOf] NULL\r\n",
                "        DEFAULT SYSDATETIME()\r\n",
                ");\r\n",
                ""
            ],
            "metadata": {
                "azdata_cell_guid": "b80e0a6d-0289-4592-82d8-004fcf0ed0f6",
                "language": "sql",
                "tags": []
            },
            "outputs": [],
            "execution_count": null
        },
        {
            "cell_type": "code",
            "source": [
                "-- =============================================\r\n",
                "-- Author:        Zackaria Mamdouh\r\n",
                "-- Create date:   5/13/2024\r\n",
                "-- Description:   Creating the Class table\r\n",
                "-- =============================================\r\n",
                "CREATE TABLE [Course].[Class]\r\n",
                "(\r\n",
                "\t[ClassKey] [Udt].[SurrogateKeyInt] PRIMARY KEY IDENTITY(1,1) NOT NULL,\r\n",
                "\t[CourseKey] [Udt].[SurrogateKeyInt] NULL,\r\n",
                "\t[Section] [Udt].[Section] NULL,\r\n",
                "\t[CourseCode] [Udt].[CourseCode] NULL,\r\n",
                "\t[CourseName] [Udt].[CourseName] NULL,\r\n",
                "\t[CourseDescription] [Udt].[CourseDesc] NULL,\r\n",
                "\t[InstructorFullName] [Udt].[Name] NULL,\r\n",
                "\t[Day] [Udt].[DayOfWeek] NULL, \r\n",
                "\t[Hours] [Udt].[IntValue] NULL,\r\n",
                "\t[NumberOfCredits] [Udt].[IntValue] NULL,\r\n",
                "\t[NumberEnrolled] [Udt].[IntValue] NULL,\r\n",
                "\t[Limit] [Udt].[IntValue] NULL,\r\n",
                "\t[OverTally] [Udt].[Count] NULL,\r\n",
                "\t[ModeOfInstructionKey] [Udt].[SurrogateKeyInt] NULL,\r\n",
                "    [ModeOfInstruction] [Udt].[ModeOfInstruction] NOT NULL DEFAULT 'TBA',\r\n",
                "    [UserAuthorizationKey] [Udt].[SurrogateKeyInt] NOT NULL,\r\n",
                "    [DateAdded] [Udt].[DateOf] NULL DEFAULT SYSDATETIME(),\r\n",
                "    [DateOfLastUpdate] [Udt].[DateOf] NOT NULL DEFAULT SYSDATETIME()\r\n",
                ");"
            ],
            "metadata": {
                "azdata_cell_guid": "0327fe48-8dd4-49a2-8851-7ee71a956272",
                "language": "sql"
            },
            "outputs": [
                {
                    "output_type": "display_data",
                    "data": {
                        "text/html": "Commands completed successfully."
                    },
                    "metadata": {}
                },
                {
                    "output_type": "display_data",
                    "data": {
                        "text/html": "Total execution time: 00:00:00.010"
                    },
                    "metadata": {}
                }
            ],
            "execution_count": 35
        }
    ]
}