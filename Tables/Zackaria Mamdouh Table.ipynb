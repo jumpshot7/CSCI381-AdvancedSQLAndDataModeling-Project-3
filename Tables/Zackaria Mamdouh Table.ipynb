{
    "metadata": {
        "kernelspec": {
            "name": "SQL",
            "display_name": "SQL",
            "language": "sql"
        },
        "language_info": {
            "name": "sql",
            "version": ""
        }
    },
    "nbformat_minor": 2,
    "nbformat": 4,
    "cells": [
        {
            "cell_type": "code",
            "source": [
                "-- =============================================\r\n",
                "-- Author:        Zackaria Mamdouh\r\n",
                "-- Create date:   5/13/2024\r\n",
                "-- Description:   Creating the Udt/Process schema and UDTs for the project\r\n",
                "-- =============================================\r\n",
                "\r\n",
                "USE QueensClassSchedule;\r\n",
                "GO\r\n",
                "\r\n",
                "-- Create the Udt schema\r\n",
                "CREATE SCHEMA Udt;\r\n",
                "GO\r\n",
                "\r\n",
                "CREATE SCHEMA Process;\r\n",
                "GO\r\n",
                "\r\n",
                "-- Create the UDTs\r\n",
                "CREATE TYPE [Udt].[SurrogateKeyInt] FROM INT NOT NULL;\r\n",
                "CREATE TYPE [Udt].[DateAdded] FROM DATETIME2 NOT NULL;\r\n",
                "CREATE TYPE [Udt].[ClassTime] FROM NCHAR(5) NOT NULL;\r\n",
                "CREATE TYPE [Udt].[IndividualProject] FROM NVARCHAR(60) NOT NULL;\r\n",
                "CREATE TYPE [Udt].[LastName] FROM NVARCHAR(35) NOT NULL;\r\n",
                "CREATE TYPE [Udt].[FirstName] FROM NVARCHAR(20) NOT NULL;\r\n",
                "CREATE TYPE [Udt].[GroupName] FROM NVARCHAR(20) NOT NULL;\r\n",
                "CREATE TYPE [Udt].[Description] FROM NVARCHAR(100) NOT NULL;\r\n",
                "CREATE TYPE [Udt].[Count] FROM INT NULL;\r\n",
                "CREATE TYPE [Udt].[DateOf] FROM DATETIME2 NOT NULL;\r\n",
                "CREATE TYPE [Udt].[Name] FROM NVARCHAR(35) NOT NULL;\r\n",
                "CREATE TYPE [Udt].[ModeOfInstruction] FROM NVARCHAR(50) NOT NULL;\r\n",
                "GO\r\n",
                ""
            ],
            "metadata": {
                "azdata_cell_guid": "e1164d0a-5258-41dd-bf70-28abda9de178",
                "language": "sql",
                "tags": []
            },
            "outputs": [],
            "execution_count": null
        },
        {
            "cell_type": "code",
            "source": [
                "-- =============================================\r\n",
                "-- Author:        Zackaria Mamdouh\r\n",
                "-- Create date:   5/13/2024\r\n",
                "-- Description:   Creating the WorkflowSteps table\r\n",
                "-- =============================================\r\n",
                "\r\n",
                "USE QueensClassSchedule\r\n",
                "\r\n",
                "CREATE TABLE [Process].[WorkflowSteps]\r\n",
                "(\r\n",
                "    [WorkFlowStepKey] [Udt].[SurrogateKeyInt] IDENTITY(1,1) PRIMARY KEY NOT NULL,\r\n",
                "    [WorkFlowStepDescription] [Udt].[Description] NOT NULL,\r\n",
                "    [WorkFlowStepTableRowCount] [Udt].[Count] NULL,\r\n",
                "    [StartingDateTime] [Udt].[DateOf] NULL,\r\n",
                "    [EndingDateTime] [Udt].[DateOf] NULL,\r\n",
                "    [ClassTime] [Udt].[ClassTime] NULL,\r\n",
                "    [UserAuthorizationKey] [Udt].[SurrogateKeyInt] NOT NULL\r\n",
                ");"
            ],
            "metadata": {
                "azdata_cell_guid": "344644dc-40b2-4390-b32d-febe179058f3",
                "language": "sql",
                "tags": []
            },
            "outputs": [],
            "execution_count": null
        },
        {
            "cell_type": "code",
            "source": [
                "-- =============================================\r\n",
                "-- Author:        Zackaria Mamdouh\r\n",
                "-- Create date:   5/13/2024\r\n",
                "-- Description:   Creating the Dbsecurity schema\r\n",
                "-- =============================================\r\n",
                "\r\n",
                "CREATE SCHEMA DbSecurity;\r\n",
                "GO"
            ],
            "metadata": {
                "azdata_cell_guid": "36af2a66-d84a-4718-9f1a-74804e841c08",
                "language": "sql",
                "tags": []
            },
            "outputs": [],
            "execution_count": null
        },
        {
            "cell_type": "code",
            "source": [
                "-- =============================================\r\n",
                "-- Author:        Zackaria Mamdouh\r\n",
                "-- Create date:   5/13/2024\r\n",
                "-- Description:   Creating the DbSecurity.UserAuthorization table\r\n",
                "-- =============================================\r\n",
                "USE QueensClassSchedule;\r\n",
                "\r\n",
                "CREATE TABLE [DbSecurity].[UserAuthorization]\r\n",
                "(\r\n",
                "\t[UserAuthorizationKey] [Udt].[SurrogateKeyInt] IDENTITY(1,1) PRIMARY KEY NOT NULL,\r\n",
                "\t[ClassTime] [Udt].[ClassTime] NULL DEFAULT ('9:15'),\r\n",
                "\t[IndividualProject] [Udt].[IndividualProject] NULL DEFAULT('PROJECT 3'),\r\n",
                "\t[GroupMemberLastName] [Udt].[Name] NOT NULL,\r\n",
                "\t[GroupMemberFirstName] [Udt].[Name] NOT NULL,\r\n",
                "\t[GroupName] [Udt].[Name] NOT NULL DEFAULT ('GROUP 6'),\r\n",
                "\t[DateAdded] [Udt].[DateOf] NULL DEFAULT SYSDATETIME()\r\n",
                ")\r\n",
                "\r\n",
                "INSERT INTO [DbSecurity].[UserAuthorization]\r\n",
                "(\r\n",
                "    GroupMemberLastName,\r\n",
                "    GroupMemberFirstName\r\n",
                ")\r\n",
                "VALUES\r\n",
                "('Mamdouh', 'Zackaria'),      --1\r\n",
                "('Haque', 'Auyon'),  --2\r\n",
                "('Zheng', 'Sabrina'),    --3\r\n",
                "('Jiang', 'Shengwei'),  --4\r\n",
                "('Chen', 'Yan '),  --5\r\n",
                "('Amaya', 'Alexa '), --6\r\n",
                "('Lin', 'Hanqi');     --7\r\n",
                "GO"
            ],
            "metadata": {
                "azdata_cell_guid": "8a802888-e6db-465f-a93a-c17189a7d6d9",
                "language": "sql",
                "tags": []
            },
            "outputs": [],
            "execution_count": null
        },
        {
            "cell_type": "code",
            "source": [
                "-- =============================================\r\n",
                "-- Author:        Zackaria Mamdouh\r\n",
                "-- Create date:   5/13/2024\r\n",
                "-- Description:   Creating the Course schema and ModeOfInstruction\r\n",
                "-- =============================================\r\n",
                "\r\n",
                "USE QueensClassSchedule;\r\n",
                "GO\r\n",
                "\r\n",
                "CREATE TABLE [Course].[ModeOfInstruction]\r\n",
                "(\r\n",
                "    [ModeOfInstructionKey] [Udt].[SurrogateKeyInt] NOT NULL IDENTITY PRIMARY KEY,\r\n",
                "    [ModeOfInstruction] [Udt].[ModeOfInstruction] NOT NULL,\r\n",
                "    [UserAuthorizationKey] [Udt].[SurrogateKeyInt] NOT NULL,\r\n",
                "    [DateAdded] [Udt].[DateOf] NULL DEFAULT SYSDATETIME(),\r\n",
                "    [DateOfLastUpdate] [Udt].[DateOf] NULL DEFAULT SYSDATETIME()\r\n",
                ");\r\n",
                "GO"
            ],
            "metadata": {
                "azdata_cell_guid": "9624a13d-98bd-4c2d-aec0-9ce8aaf62b1f",
                "language": "sql",
                "tags": []
            },
            "outputs": [],
            "execution_count": null
        }
    ]
}