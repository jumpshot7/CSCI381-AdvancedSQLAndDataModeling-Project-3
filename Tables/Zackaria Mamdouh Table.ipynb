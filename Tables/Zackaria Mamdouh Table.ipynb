{
    "metadata": {
        "kernelspec": {
            "name": "SQL",
            "display_name": "SQL",
            "language": "sql"
        },
        "language_info": {
            "name": "sql",
            "version": ""
        }
    },
    "nbformat_minor": 2,
    "nbformat": 4,
    "cells": [
        {
            "cell_type": "code",
            "source": [
                "-- =============================================\r\n",
                "-- Author:        Zackaria Mamdouh\r\n",
                "-- Create date:   5/13/2024\r\n",
                "-- Description:   Creating the UDT schema and UDTs for the project\r\n",
                "-- =============================================\r\n",
                "\r\n",
                "USE QueensClassSchedule;\r\n",
                "GO\r\n",
                "\r\n",
                "-- Create the Udt schema\r\n",
                "CREATE SCHEMA Udt;\r\n",
                "GO\r\n",
                "\r\n",
                "-- Create the UDTs\r\n",
                "CREATE TYPE [Udt].[SurrogateKeyInt] FROM INT NOT NULL;\r\n",
                "CREATE TYPE [Udt].[DateAdded] FROM DATETIME2 NOT NULL;\r\n",
                "CREATE TYPE [Udt].[ClassTime] FROM NCHAR(5) NOT NULL;\r\n",
                "CREATE TYPE [Udt].[IndividualProject] FROM NVARCHAR(60) NOT NULL;\r\n",
                "CREATE TYPE [Udt].[LastName] FROM NVARCHAR(35) NOT NULL;\r\n",
                "CREATE TYPE [Udt].[FirstName] FROM NVARCHAR(20) NOT NULL;\r\n",
                "CREATE TYPE [Udt].[GroupName] FROM NVARCHAR(20) NOT NULL;\r\n",
                "CREATE TYPE [Udt].[Description] FROM NVARCHAR(100) NOT NULL;\r\n",
                "CREATE TYPE [Udt].[Count] FROM INT NULL;\r\n",
                "CREATE TYPE [Udt].[DateOf] FROM DATETIME2 NOT NULL;\r\n",
                "GO\r\n",
                ""
            ],
            "metadata": {
                "azdata_cell_guid": "e1164d0a-5258-41dd-bf70-28abda9de178",
                "language": "sql",
                "tags": [
                    "hide_input"
                ]
            },
            "outputs": [
                {
                    "output_type": "display_data",
                    "data": {
                        "text/html": "Commands completed successfully."
                    },
                    "metadata": {}
                },
                {
                    "output_type": "display_data",
                    "data": {
                        "text/html": "Commands completed successfully."
                    },
                    "metadata": {}
                },
                {
                    "output_type": "display_data",
                    "data": {
                        "text/html": "Commands completed successfully."
                    },
                    "metadata": {}
                },
                {
                    "output_type": "display_data",
                    "data": {
                        "text/html": "Total execution time: 00:00:00.033"
                    },
                    "metadata": {}
                }
            ],
            "execution_count": 5
        },
        {
            "cell_type": "code",
            "source": [
                "-- =============================================\r\n",
                "-- Author:        Zackaria Mamdouh\r\n",
                "-- Create date:   5/13/2024\r\n",
                "-- Description:   Creating the WorkflowSteps table\r\n",
                "-- =============================================\r\n",
                "\r\n",
                "USE QueensClassSchedule\r\n",
                "\r\n",
                "CREATE TABLE [Process].[WorkflowSteps]\r\n",
                "(\r\n",
                "    [WorkFlowStepKey] [Udt].[SurrogateKeyInt] IDENTITY(1,1) PRIMARY KEY NOT NULL,\r\n",
                "    [WorkFlowStepDescription] [Udt].[Description] NOT NULL,\r\n",
                "    [WorkFlowStepTableRowCount] [Udt].[Count] NULL,\r\n",
                "    [StartingDateTime] [Udt].[DateOf] NULL,\r\n",
                "    [EndingDateTime] [Udt].[DateOf] NULL,\r\n",
                "    [ClassTime] [Udt].[ClassTime] NULL,\r\n",
                "    [UserAuthorizationKey] [Udt].[SurrogateKeyInt] NOT NULL\r\n",
                ");"
            ],
            "metadata": {
                "azdata_cell_guid": "344644dc-40b2-4390-b32d-febe179058f3",
                "language": "sql"
            },
            "outputs": [
                {
                    "output_type": "error",
                    "evalue": "Msg 2760, Level 16, State 1, Line 9\r\nThe specified schema name \"Process\" either does not exist or you do not have permission to use it.",
                    "ename": "",
                    "traceback": []
                },
                {
                    "output_type": "display_data",
                    "data": {
                        "text/html": "Total execution time: 00:00:00.003"
                    },
                    "metadata": {}
                }
            ],
            "execution_count": 8
        }
    ]
}