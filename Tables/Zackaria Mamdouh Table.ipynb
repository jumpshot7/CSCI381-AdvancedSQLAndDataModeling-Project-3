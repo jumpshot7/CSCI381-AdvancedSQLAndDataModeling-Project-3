{
    "metadata": {
        "kernelspec": {
            "name": "SQL",
            "display_name": "SQL",
            "language": "sql"
        },
        "language_info": {
            "name": "sql",
            "version": ""
        }
    },
    "nbformat_minor": 2,
    "nbformat": 4,
    "cells": [
        {
            "cell_type": "code",
            "source": [
                "-- =============================================\r\n",
                "-- Author:        Zackaria Mamdouh\r\n",
                "-- Create date:   5/13/2024\r\n",
                "-- Description:   Creating the Udt/Process schema and UDTs for the project\r\n",
                "-- =============================================\r\n",
                "\r\n",
                "USE QueensClassSchedule;\r\n",
                "GO\r\n",
                "\r\n",
                "-- Create the Udt schema\r\n",
                "CREATE SCHEMA Udt;\r\n",
                "GO\r\n",
                "\r\n",
                "-- Create the Process schema\r\n",
                "CREATE SCHEMA Process;\r\n",
                "GO\r\n",
                "\r\n",
                "-- Create the UDTs\r\n",
                "CREATE TYPE [Udt].[SurrogateKeyInt] FROM INT NOT NULL;\r\n",
                "CREATE TYPE [Udt].[DateAdded] FROM DATETIME2 NOT NULL;\r\n",
                "CREATE TYPE [Udt].[ClassTime] FROM NCHAR(5) NOT NULL;\r\n",
                "CREATE TYPE [Udt].[IndividualProject] FROM NVARCHAR(60) NOT NULL;\r\n",
                "CREATE TYPE [Udt].[LastName] FROM NVARCHAR(35) NOT NULL;\r\n",
                "CREATE TYPE [Udt].[FirstName] FROM NVARCHAR(20) NOT NULL;\r\n",
                "CREATE TYPE [Udt].[GroupName] FROM NVARCHAR(20) NOT NULL;\r\n",
                "CREATE TYPE [Udt].[Description] FROM NVARCHAR(100) NOT NULL;\r\n",
                "CREATE TYPE [Udt].[Count] FROM INT NULL;\r\n",
                "CREATE TYPE [Udt].[DateOf] FROM DATETIME2 NOT NULL;\r\n",
                "CREATE TYPE [Udt].[Name] FROM NVARCHAR(35) NOT NULL;\r\n",
                "CREATE TYPE [Udt].[ModeOfInstruction] FROM NVARCHAR(50) NOT NULL;\r\n",
                "CREATE TYPE [Udt].[RoomLocation] FROM NVARCHAR(50) NOT NULL;\r\n",
                "GO\r\n",
                ""
            ],
            "metadata": {
                "azdata_cell_guid": "e1164d0a-5258-41dd-bf70-28abda9de178",
                "language": "sql",
                "tags": []
            },
            "outputs": [
                {
                    "output_type": "display_data",
                    "data": {
                        "text/html": "Commands completed successfully."
                    },
                    "metadata": {}
                },
                {
                    "output_type": "display_data",
                    "data": {
                        "text/html": "Total execution time: 00:00:00.010"
                    },
                    "metadata": {}
                }
            ],
            "execution_count": 5
        },
        {
            "cell_type": "code",
            "source": [
                "-- =============================================\r\n",
                "-- Author:        Zackaria Mamdouh\r\n",
                "-- Create date:   5/13/2024\r\n",
                "-- Description:   Creating the WorkflowSteps table\r\n",
                "-- =============================================\r\n",
                "\r\n",
                "USE QueensClassSchedule\r\n",
                "\r\n",
                "CREATE TABLE [Process].[WorkflowSteps]\r\n",
                "(\r\n",
                "    [WorkFlowStepKey] [Udt].[SurrogateKeyInt] IDENTITY(1,1) PRIMARY KEY NOT NULL,\r\n",
                "    [WorkFlowStepDescription] [Udt].[Description] NOT NULL,\r\n",
                "    [WorkFlowStepTableRowCount] [Udt].[Count] NULL,\r\n",
                "    [StartingDateTime] [Udt].[DateOf] NULL,\r\n",
                "    [EndingDateTime] [Udt].[DateOf] NULL,\r\n",
                "    [ClassTime] [Udt].[ClassTime] NULL,\r\n",
                "    [UserAuthorizationKey] [Udt].[SurrogateKeyInt] NOT NULL\r\n",
                ");"
            ],
            "metadata": {
                "azdata_cell_guid": "344644dc-40b2-4390-b32d-febe179058f3",
                "language": "sql",
                "tags": []
            },
            "outputs": [],
            "execution_count": null
        },
        {
            "cell_type": "code",
            "source": [
                "-- =============================================\r\n",
                "-- Author:        Zackaria Mamdouh\r\n",
                "-- Create date:   5/13/2024\r\n",
                "-- Description:   Creating the Dbsecurity schema\r\n",
                "-- =============================================\r\n",
                "\r\n",
                "CREATE SCHEMA DbSecurity;\r\n",
                "GO"
            ],
            "metadata": {
                "azdata_cell_guid": "36af2a66-d84a-4718-9f1a-74804e841c08",
                "language": "sql",
                "tags": []
            },
            "outputs": [],
            "execution_count": null
        },
        {
            "cell_type": "code",
            "source": [
                "-- =============================================\r\n",
                "-- Author:        Zackaria Mamdouh\r\n",
                "-- Create date:   5/13/2024\r\n",
                "-- Description:   Creating the DbSecurity.UserAuthorization table\r\n",
                "-- =============================================\r\n",
                "USE QueensClassSchedule;\r\n",
                "\r\n",
                "CREATE TABLE [DbSecurity].[UserAuthorization]\r\n",
                "(\r\n",
                "\t[UserAuthorizationKey] [Udt].[SurrogateKeyInt] IDENTITY(1,1) PRIMARY KEY NOT NULL,\r\n",
                "\t[ClassTime] [Udt].[ClassTime] NULL DEFAULT ('9:15'),\r\n",
                "\t[IndividualProject] [Udt].[IndividualProject] NULL DEFAULT('PROJECT 3'),\r\n",
                "\t[GroupMemberLastName] [Udt].[Name] NOT NULL,\r\n",
                "\t[GroupMemberFirstName] [Udt].[Name] NOT NULL,\r\n",
                "\t[GroupName] [Udt].[Name] NOT NULL DEFAULT ('GROUP 6'),\r\n",
                "\t[DateAdded] [Udt].[DateOf] NULL DEFAULT SYSDATETIME()\r\n",
                ")\r\n",
                "\r\n",
                "INSERT INTO [DbSecurity].[UserAuthorization]\r\n",
                "(\r\n",
                "    GroupMemberLastName,\r\n",
                "    GroupMemberFirstName\r\n",
                ")\r\n",
                "VALUES\r\n",
                "('Mamdouh', 'Zackaria'),      --1\r\n",
                "('Haque', 'Auyon'),  --2\r\n",
                "('Zheng', 'Sabrina'),    --3\r\n",
                "('Jiang', 'Shengwei'),  --4\r\n",
                "('Chen', 'Yan '),  --5\r\n",
                "('Amaya', 'Alexa '), --6\r\n",
                "('Lin', 'Hanqi');     --7\r\n",
                "GO"
            ],
            "metadata": {
                "azdata_cell_guid": "8a802888-e6db-465f-a93a-c17189a7d6d9",
                "language": "sql",
                "tags": []
            },
            "outputs": [],
            "execution_count": null
        },
        {
            "cell_type": "code",
            "source": [
                "-- =============================================\r\n",
                "-- Author:        Zackaria Mamdouh\r\n",
                "-- Create date:   5/13/2024\r\n",
                "-- Description:   Creating the Course schema and ModeOfInstruction\r\n",
                "-- =============================================\r\n",
                "\r\n",
                "USE QueensClassSchedule;\r\n",
                "GO\r\n",
                "\r\n",
                "CREATE TABLE [Course].[ModeOfInstruction]\r\n",
                "(\r\n",
                "    [ModeOfInstructionKey] [Udt].[SurrogateKeyInt] NOT NULL IDENTITY PRIMARY KEY,\r\n",
                "    [ModeOfInstruction] [Udt].[ModeOfInstruction] NOT NULL,\r\n",
                "    [UserAuthorizationKey] [Udt].[SurrogateKeyInt] NOT NULL,\r\n",
                "    [DateAdded] [Udt].[DateOf] NULL DEFAULT SYSDATETIME(),\r\n",
                "    [DateOfLastUpdate] [Udt].[DateOf] NULL DEFAULT SYSDATETIME()\r\n",
                ");\r\n",
                "GO"
            ],
            "metadata": {
                "azdata_cell_guid": "9624a13d-98bd-4c2d-aec0-9ce8aaf62b1f",
                "language": "sql",
                "tags": []
            },
            "outputs": [],
            "execution_count": null
        },
        {
            "cell_type": "code",
            "source": [
                "-- =============================================\r\n",
                "-- Author:        Zackaria Mamdouh\r\n",
                "-- Create date:   5/13/2024\r\n",
                "-- Description:   Creating the Project3 and Process schema\r\n",
                "-- =============================================\r\n",
                "\r\n",
                "CREATE SCHEMA Project3;\r\n",
                "GO\r\n",
                "\r\n",
                "CREATE SCHEMA Process;\r\n",
                "GO"
            ],
            "metadata": {
                "azdata_cell_guid": "b824218c-0d53-4ef4-b82a-8605727ec3bb",
                "language": "sql",
                "tags": []
            },
            "outputs": [],
            "execution_count": null
        },
        {
            "cell_type": "code",
            "source": [
                "-- =============================================\r\n",
                "-- Author:        Zackaria Mamdouh\r\n",
                "-- Create date:   5/13/2024\r\n",
                "-- Description:   Creating the Location schema\r\n",
                "-- =============================================\r\n",
                "CREATE SCHEMA Location;\r\n",
                "GO"
            ],
            "metadata": {
                "azdata_cell_guid": "3815cb35-5cfe-4c01-8091-0fcdd1f85018",
                "language": "sql",
                "tags": []
            },
            "outputs": [
                {
                    "output_type": "display_data",
                    "data": {
                        "text/html": "Commands completed successfully."
                    },
                    "metadata": {}
                },
                {
                    "output_type": "display_data",
                    "data": {
                        "text/html": "Total execution time: 00:00:00.009"
                    },
                    "metadata": {}
                }
            ],
            "execution_count": 7
        },
        {
            "cell_type": "code",
            "source": [
                "-- =============================================\r\n",
                "-- Author:        Zackaria Mamdouh\r\n",
                "-- Create date:   5/13/2024\r\n",
                "-- Description:   Creating the RoomLocation table\r\n",
                "-- =============================================\r\n",
                "\r\n",
                "USE QueensClassSchedule;\r\n",
                "\r\n",
                "\r\n",
                "CREATE TABLE [Location].[RoomLocation]\r\n",
                "( \r\n",
                "\t[RoomLocationKey] [Udt].[SurrogateKeyInt] NOT NULL IDENTITY PRIMARY KEY,\r\n",
                "\t[RoomLocation] [Udt].[RoomLocation] NOT NULL DEFAULT 'AA TBA',\r\n",
                "\t[UserAuthorizationKey] [Udt].[SurrogateKeyInt] NOT NULL,\r\n",
                "\t[DateAdded] [Udt].[DateOf] NULL\r\n",
                "\t\tDEFAULT SYSDATETIME(),\r\n",
                "\t[DateOfLastUpdate] [Udt].[DateOf] NULL\r\n",
                "\t\tDEFAULT SYSDATETIME()\r\n",
                ");"
            ],
            "metadata": {
                "azdata_cell_guid": "269097b3-33b4-44e3-8686-f82615512c1c",
                "language": "sql"
            },
            "outputs": [
                {
                    "output_type": "error",
                    "evalue": "Msg 2760, Level 16, State 1, Line 10\r\nThe specified schema name \"Location\" either does not exist or you do not have permission to use it.",
                    "ename": "",
                    "traceback": []
                },
                {
                    "output_type": "display_data",
                    "data": {
                        "text/html": "Total execution time: 00:00:00.005"
                    },
                    "metadata": {}
                }
            ],
            "execution_count": 6
        }
    ]
}